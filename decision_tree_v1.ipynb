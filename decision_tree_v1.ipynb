{
  "nbformat": 4,
  "nbformat_minor": 0,
  "metadata": {
    "colab": {
      "name": "decision_tree_v1",
      "provenance": [],
      "collapsed_sections": [],
      "authorship_tag": "ABX9TyPXByH6TP99m0YSqgL5t9KZ",
      "include_colab_link": true
    },
    "kernelspec": {
      "name": "python3",
      "display_name": "Python 3"
    },
    "language_info": {
      "name": "python"
    }
  },
  "cells": [
    {
      "cell_type": "markdown",
      "metadata": {
        "id": "view-in-github",
        "colab_type": "text"
      },
      "source": [
        "<a href=\"https://colab.research.google.com/github/samirrforredhat/migration_reporting/blob/master/decision_tree_v1.ipynb\" target=\"_parent\"><img src=\"https://colab.research.google.com/assets/colab-badge.svg\" alt=\"Open In Colab\"/></a>"
      ]
    },
    {
      "cell_type": "code",
      "metadata": {
        "id": "6bl5hlwcbrE8",
        "colab": {
          "resources": {
            "http://localhost:8080/nbextensions/google.colab/files.js": {
              "data": "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",
              "ok": true,
              "headers": [
                [
                  "content-type",
                  "application/javascript"
                ]
              ],
              "status": 200,
              "status_text": ""
            }
          },
          "base_uri": "https://localhost:8080/",
          "height": 462
        },
        "outputId": "e31ea42f-2901-429d-d238-0400716eba27"
      },
      "source": [
        "from google.colab import files\n",
        "uploaded = files.upload()\n",
        "\n",
        "import pandas as pd\n",
        "import io\n",
        "  \n",
        "df = pd.read_csv(io.BytesIO(uploaded['jobs.csv']))\n",
        "print(df)"
      ],
      "execution_count": null,
      "outputs": [
        {
          "output_type": "display_data",
          "data": {
            "text/html": [
              "\n",
              "     <input type=\"file\" id=\"files-54494715-e58f-4b52-8e4d-732808f84dc8\" name=\"files[]\" multiple disabled\n",
              "        style=\"border:none\" />\n",
              "     <output id=\"result-54494715-e58f-4b52-8e4d-732808f84dc8\">\n",
              "      Upload widget is only available when the cell has been executed in the\n",
              "      current browser session. Please rerun this cell to enable.\n",
              "      </output>\n",
              "      <script src=\"/nbextensions/google.colab/files.js\"></script> "
            ],
            "text/plain": [
              "<IPython.core.display.HTML object>"
            ]
          },
          "metadata": {}
        },
        {
          "output_type": "stream",
          "name": "stdout",
          "text": [
            "Saving jobs.csv to jobs.csv\n",
            "                            job_name  ...                                 successor\n",
            "0   d1-limebtc-prepaid-precheck-load  ...              serialization_error_dont_run\n",
            "1   d1-limebtc-prepaid-precheck-load  ...              serialization_error_dont_run\n",
            "2   d1-limebtc-prepaid-precheck-load  ...              serialization_error_dont_run\n",
            "3   d1-limebtc-prepaid-precheck-load  ...              serialization_error_dont_run\n",
            "4   d1-limebtc-prepaid-precheck-load  ...              serialization_error_dont_run\n",
            "5   d1-limebtc-prepaid-precheck-load  ...              serialization_error_dont_run\n",
            "6   d1-limebtc-prepaid-precheck-load  ...                                     build\n",
            "7   d1-limebtc-prepaid-precheck-load  ...              serialization_error_dont_run\n",
            "8   d1-limebtc-prepaid-precheck-load  ...  check_log_rerun_if_no_other_load_running\n",
            "9   d1-limebtc-prepaid-precheck-load  ...  check_log_rerun_if_no_other_load_running\n",
            "10  d1-limebtc-prepaid-precheck-load  ...  check_log_rerun_if_no_other_load_running\n",
            "11  d1-limebtc-prepaid-precheck-load  ...  check_log_rerun_if_no_other_load_running\n",
            "12  d1-limebtc-prepaid-precheck-load  ...  check_log_rerun_if_no_other_load_running\n",
            "13  d1-limebtc-prepaid-precheck-load  ...  check_log_rerun_if_no_other_load_running\n",
            "14  d1-limebtc-prepaid-precheck-load  ...  check_log_rerun_if_no_other_load_running\n",
            "15  d1-limebtc-prepaid-precheck-load  ...                           check_log_rerun\n",
            "16  d1-limebtc-prepaid-precheck-load  ...                           check_log_rerun\n",
            "17  d1-limebtc-prepaid-precheck-load  ...                           check_log_rerun\n",
            "\n",
            "[18 rows x 5 columns]\n"
          ]
        }
      ]
    },
    {
      "cell_type": "code",
      "metadata": {
        "id": "rKDdPRuFa5_7"
      },
      "source": [
        ""
      ],
      "execution_count": null,
      "outputs": []
    },
    {
      "cell_type": "code",
      "metadata": {
        "id": "VFcYwmwva6vk"
      },
      "source": [
        ""
      ],
      "execution_count": null,
      "outputs": []
    },
    {
      "cell_type": "code",
      "metadata": {
        "id": "esJ2gQZ_fjhY"
      },
      "source": [
        "from google.colab import drive\n",
        "drive.mount('/content/drive')"
      ],
      "execution_count": null,
      "outputs": []
    },
    {
      "cell_type": "code",
      "metadata": {
        "colab": {
          "base_uri": "https://localhost:8080/",
          "height": 206
        },
        "id": "39Zo0k9SbxF2",
        "outputId": "5cfa00f3-5dae-4925-b435-72375a56b519"
      },
      "source": [
        "df.head()"
      ],
      "execution_count": null,
      "outputs": [
        {
          "output_type": "execute_result",
          "data": {
            "text/html": [
              "<div>\n",
              "<style scoped>\n",
              "    .dataframe tbody tr th:only-of-type {\n",
              "        vertical-align: middle;\n",
              "    }\n",
              "\n",
              "    .dataframe tbody tr th {\n",
              "        vertical-align: top;\n",
              "    }\n",
              "\n",
              "    .dataframe thead th {\n",
              "        text-align: right;\n",
              "    }\n",
              "</style>\n",
              "<table border=\"1\" class=\"dataframe\">\n",
              "  <thead>\n",
              "    <tr style=\"text-align: right;\">\n",
              "      <th></th>\n",
              "      <th>job_name</th>\n",
              "      <th>runtime</th>\n",
              "      <th>status</th>\n",
              "      <th>dependent_job_running_job</th>\n",
              "      <th>successor</th>\n",
              "    </tr>\n",
              "  </thead>\n",
              "  <tbody>\n",
              "    <tr>\n",
              "      <th>0</th>\n",
              "      <td>d1-limebtc-prepaid-precheck-load</td>\n",
              "      <td>0</td>\n",
              "      <td>scheduled</td>\n",
              "      <td>h1-columbus-data-load-from-s3</td>\n",
              "      <td>serialization_error_dont_run</td>\n",
              "    </tr>\n",
              "    <tr>\n",
              "      <th>1</th>\n",
              "      <td>d1-limebtc-prepaid-precheck-load</td>\n",
              "      <td>0</td>\n",
              "      <td>scheduled</td>\n",
              "      <td>h1-columbus-data-precheck-load</td>\n",
              "      <td>serialization_error_dont_run</td>\n",
              "    </tr>\n",
              "    <tr>\n",
              "      <th>2</th>\n",
              "      <td>d1-limebtc-prepaid-precheck-load</td>\n",
              "      <td>0</td>\n",
              "      <td>scheduled</td>\n",
              "      <td>Topup-recharge-load-20063</td>\n",
              "      <td>serialization_error_dont_run</td>\n",
              "    </tr>\n",
              "    <tr>\n",
              "      <th>3</th>\n",
              "      <td>d1-limebtc-prepaid-precheck-load</td>\n",
              "      <td>0</td>\n",
              "      <td>scheduled</td>\n",
              "      <td>a-6-independent-pid-data-load</td>\n",
              "      <td>serialization_error_dont_run</td>\n",
              "    </tr>\n",
              "    <tr>\n",
              "      <th>4</th>\n",
              "      <td>d1-limebtc-prepaid-precheck-load</td>\n",
              "      <td>0</td>\n",
              "      <td>scheduled</td>\n",
              "      <td>a-7-ODS-MMS-load</td>\n",
              "      <td>serialization_error_dont_run</td>\n",
              "    </tr>\n",
              "  </tbody>\n",
              "</table>\n",
              "</div>"
            ],
            "text/plain": [
              "                           job_name  ...                     successor\n",
              "0  d1-limebtc-prepaid-precheck-load  ...  serialization_error_dont_run\n",
              "1  d1-limebtc-prepaid-precheck-load  ...  serialization_error_dont_run\n",
              "2  d1-limebtc-prepaid-precheck-load  ...  serialization_error_dont_run\n",
              "3  d1-limebtc-prepaid-precheck-load  ...  serialization_error_dont_run\n",
              "4  d1-limebtc-prepaid-precheck-load  ...  serialization_error_dont_run\n",
              "\n",
              "[5 rows x 5 columns]"
            ]
          },
          "metadata": {},
          "execution_count": 3
        }
      ]
    },
    {
      "cell_type": "code",
      "metadata": {
        "id": "N8EWTMB-zNyY"
      },
      "source": [
        "inputs = df"
      ],
      "execution_count": null,
      "outputs": []
    },
    {
      "cell_type": "code",
      "metadata": {
        "id": "kubaDcd1zQr_",
        "colab": {
          "base_uri": "https://localhost:8080/",
          "height": 202
        },
        "outputId": "ab926a8c-c61a-4d19-e59a-fce1cb8e67e6"
      },
      "source": [
        "inputs.head()"
      ],
      "execution_count": null,
      "outputs": [
        {
          "output_type": "execute_result",
          "data": {
            "text/html": [
              "<div>\n",
              "<style scoped>\n",
              "    .dataframe tbody tr th:only-of-type {\n",
              "        vertical-align: middle;\n",
              "    }\n",
              "\n",
              "    .dataframe tbody tr th {\n",
              "        vertical-align: top;\n",
              "    }\n",
              "\n",
              "    .dataframe thead th {\n",
              "        text-align: right;\n",
              "    }\n",
              "</style>\n",
              "<table border=\"1\" class=\"dataframe\">\n",
              "  <thead>\n",
              "    <tr style=\"text-align: right;\">\n",
              "      <th></th>\n",
              "      <th>job_name</th>\n",
              "      <th>runtime</th>\n",
              "      <th>status</th>\n",
              "      <th>dependent_job_running_job</th>\n",
              "      <th>successor</th>\n",
              "    </tr>\n",
              "  </thead>\n",
              "  <tbody>\n",
              "    <tr>\n",
              "      <th>0</th>\n",
              "      <td>d1-limebtc-prepaid-precheck-load</td>\n",
              "      <td>0</td>\n",
              "      <td>scheduled</td>\n",
              "      <td>h1-columbus-data-load-from-s3</td>\n",
              "      <td>serialization_error_dont_run</td>\n",
              "    </tr>\n",
              "    <tr>\n",
              "      <th>1</th>\n",
              "      <td>d1-limebtc-prepaid-precheck-load</td>\n",
              "      <td>0</td>\n",
              "      <td>scheduled</td>\n",
              "      <td>h1-columbus-data-precheck-load</td>\n",
              "      <td>serialization_error_dont_run</td>\n",
              "    </tr>\n",
              "    <tr>\n",
              "      <th>2</th>\n",
              "      <td>d1-limebtc-prepaid-precheck-load</td>\n",
              "      <td>0</td>\n",
              "      <td>scheduled</td>\n",
              "      <td>Topup-recharge-load-20063</td>\n",
              "      <td>serialization_error_dont_run</td>\n",
              "    </tr>\n",
              "    <tr>\n",
              "      <th>3</th>\n",
              "      <td>d1-limebtc-prepaid-precheck-load</td>\n",
              "      <td>0</td>\n",
              "      <td>scheduled</td>\n",
              "      <td>a-6-independent-pid-data-load</td>\n",
              "      <td>serialization_error_dont_run</td>\n",
              "    </tr>\n",
              "    <tr>\n",
              "      <th>4</th>\n",
              "      <td>d1-limebtc-prepaid-precheck-load</td>\n",
              "      <td>0</td>\n",
              "      <td>scheduled</td>\n",
              "      <td>a-7-ODS-MMS-load</td>\n",
              "      <td>serialization_error_dont_run</td>\n",
              "    </tr>\n",
              "  </tbody>\n",
              "</table>\n",
              "</div>"
            ],
            "text/plain": [
              "                           job_name  ...                     successor\n",
              "0  d1-limebtc-prepaid-precheck-load  ...  serialization_error_dont_run\n",
              "1  d1-limebtc-prepaid-precheck-load  ...  serialization_error_dont_run\n",
              "2  d1-limebtc-prepaid-precheck-load  ...  serialization_error_dont_run\n",
              "3  d1-limebtc-prepaid-precheck-load  ...  serialization_error_dont_run\n",
              "4  d1-limebtc-prepaid-precheck-load  ...  serialization_error_dont_run\n",
              "\n",
              "[5 rows x 5 columns]"
            ]
          },
          "metadata": {},
          "execution_count": 7
        }
      ]
    },
    {
      "cell_type": "code",
      "metadata": {
        "id": "Sqaaff_vc-bs"
      },
      "source": [
        "from sklearn.preprocessing import LabelEncoder\n",
        "le_job_name = LabelEncoder()\n",
        "le_runtime = LabelEncoder()\n",
        "le_status = LabelEncoder()\n",
        "le_dependent_job_running_job = LabelEncoder()\n",
        "le_successor = LabelEncoder()"
      ],
      "execution_count": null,
      "outputs": []
    },
    {
      "cell_type": "code",
      "metadata": {
        "id": "CZJU5lthdQ09"
      },
      "source": [
        "inputs['job_name_n'] = le_job_name.fit_transform(inputs['job_name'])\n",
        "inputs['runtime_n'] = le_runtime.fit_transform(inputs['runtime'])\n",
        "inputs['status_n'] = le_status.fit_transform(inputs['status'])\n",
        "inputs['dependent_job_running_job_n'] = le_dependent_job_running_job.fit_transform(inputs['dependent_job_running_job'])\n",
        "inputs['successor_n'] = le_successor.fit_transform(inputs['successor'])"
      ],
      "execution_count": null,
      "outputs": []
    },
    {
      "cell_type": "code",
      "metadata": {
        "colab": {
          "base_uri": "https://localhost:8080/",
          "height": 601
        },
        "id": "clotMKmtexO1",
        "outputId": "d876ff58-d456-416c-bc15-bfd34f820294"
      },
      "source": [
        "inputs"
      ],
      "execution_count": null,
      "outputs": [
        {
          "output_type": "execute_result",
          "data": {
            "text/html": [
              "<div>\n",
              "<style scoped>\n",
              "    .dataframe tbody tr th:only-of-type {\n",
              "        vertical-align: middle;\n",
              "    }\n",
              "\n",
              "    .dataframe tbody tr th {\n",
              "        vertical-align: top;\n",
              "    }\n",
              "\n",
              "    .dataframe thead th {\n",
              "        text-align: right;\n",
              "    }\n",
              "</style>\n",
              "<table border=\"1\" class=\"dataframe\">\n",
              "  <thead>\n",
              "    <tr style=\"text-align: right;\">\n",
              "      <th></th>\n",
              "      <th>job_name</th>\n",
              "      <th>runtime</th>\n",
              "      <th>status</th>\n",
              "      <th>dependent_job_running_job</th>\n",
              "      <th>successor</th>\n",
              "      <th>job_name_n</th>\n",
              "      <th>runtime_n</th>\n",
              "      <th>status_n</th>\n",
              "      <th>dependent_job_running_job_n</th>\n",
              "      <th>successor_n</th>\n",
              "    </tr>\n",
              "  </thead>\n",
              "  <tbody>\n",
              "    <tr>\n",
              "      <th>0</th>\n",
              "      <td>d1-limebtc-prepaid-precheck-load</td>\n",
              "      <td>0</td>\n",
              "      <td>scheduled</td>\n",
              "      <td>h1-columbus-data-load-from-s3</td>\n",
              "      <td>serialization_error_dont_run</td>\n",
              "      <td>0</td>\n",
              "      <td>0</td>\n",
              "      <td>1</td>\n",
              "      <td>5</td>\n",
              "      <td>3</td>\n",
              "    </tr>\n",
              "    <tr>\n",
              "      <th>1</th>\n",
              "      <td>d1-limebtc-prepaid-precheck-load</td>\n",
              "      <td>0</td>\n",
              "      <td>scheduled</td>\n",
              "      <td>h1-columbus-data-precheck-load</td>\n",
              "      <td>serialization_error_dont_run</td>\n",
              "      <td>0</td>\n",
              "      <td>0</td>\n",
              "      <td>1</td>\n",
              "      <td>6</td>\n",
              "      <td>3</td>\n",
              "    </tr>\n",
              "    <tr>\n",
              "      <th>2</th>\n",
              "      <td>d1-limebtc-prepaid-precheck-load</td>\n",
              "      <td>0</td>\n",
              "      <td>scheduled</td>\n",
              "      <td>Topup-recharge-load-20063</td>\n",
              "      <td>serialization_error_dont_run</td>\n",
              "      <td>0</td>\n",
              "      <td>0</td>\n",
              "      <td>1</td>\n",
              "      <td>0</td>\n",
              "      <td>3</td>\n",
              "    </tr>\n",
              "    <tr>\n",
              "      <th>3</th>\n",
              "      <td>d1-limebtc-prepaid-precheck-load</td>\n",
              "      <td>0</td>\n",
              "      <td>scheduled</td>\n",
              "      <td>a-6-independent-pid-data-load</td>\n",
              "      <td>serialization_error_dont_run</td>\n",
              "      <td>0</td>\n",
              "      <td>0</td>\n",
              "      <td>1</td>\n",
              "      <td>1</td>\n",
              "      <td>3</td>\n",
              "    </tr>\n",
              "    <tr>\n",
              "      <th>4</th>\n",
              "      <td>d1-limebtc-prepaid-precheck-load</td>\n",
              "      <td>0</td>\n",
              "      <td>scheduled</td>\n",
              "      <td>a-7-ODS-MMS-load</td>\n",
              "      <td>serialization_error_dont_run</td>\n",
              "      <td>0</td>\n",
              "      <td>0</td>\n",
              "      <td>1</td>\n",
              "      <td>2</td>\n",
              "      <td>3</td>\n",
              "    </tr>\n",
              "    <tr>\n",
              "      <th>5</th>\n",
              "      <td>d1-limebtc-prepaid-precheck-load</td>\n",
              "      <td>0</td>\n",
              "      <td>scheduled</td>\n",
              "      <td>b1-0100-vlr-stats-load</td>\n",
              "      <td>serialization_error_dont_run</td>\n",
              "      <td>0</td>\n",
              "      <td>0</td>\n",
              "      <td>1</td>\n",
              "      <td>3</td>\n",
              "      <td>3</td>\n",
              "    </tr>\n",
              "    <tr>\n",
              "      <th>6</th>\n",
              "      <td>d1-limebtc-prepaid-precheck-load</td>\n",
              "      <td>0</td>\n",
              "      <td>scheduled</td>\n",
              "      <td>others</td>\n",
              "      <td>build</td>\n",
              "      <td>0</td>\n",
              "      <td>0</td>\n",
              "      <td>1</td>\n",
              "      <td>7</td>\n",
              "      <td>0</td>\n",
              "    </tr>\n",
              "    <tr>\n",
              "      <th>7</th>\n",
              "      <td>d1-limebtc-prepaid-precheck-load</td>\n",
              "      <td>0</td>\n",
              "      <td>scheduled</td>\n",
              "      <td>c1-0100-liberate-landing-load job</td>\n",
              "      <td>serialization_error_dont_run</td>\n",
              "      <td>0</td>\n",
              "      <td>0</td>\n",
              "      <td>1</td>\n",
              "      <td>4</td>\n",
              "      <td>3</td>\n",
              "    </tr>\n",
              "    <tr>\n",
              "      <th>8</th>\n",
              "      <td>d1-limebtc-prepaid-precheck-load</td>\n",
              "      <td>1</td>\n",
              "      <td>failed</td>\n",
              "      <td>h1-columbus-data-load-from-s3</td>\n",
              "      <td>check_log_rerun_if_no_other_load_running</td>\n",
              "      <td>0</td>\n",
              "      <td>1</td>\n",
              "      <td>0</td>\n",
              "      <td>5</td>\n",
              "      <td>2</td>\n",
              "    </tr>\n",
              "    <tr>\n",
              "      <th>9</th>\n",
              "      <td>d1-limebtc-prepaid-precheck-load</td>\n",
              "      <td>1</td>\n",
              "      <td>failed</td>\n",
              "      <td>h1-columbus-data-precheck-load</td>\n",
              "      <td>check_log_rerun_if_no_other_load_running</td>\n",
              "      <td>0</td>\n",
              "      <td>1</td>\n",
              "      <td>0</td>\n",
              "      <td>6</td>\n",
              "      <td>2</td>\n",
              "    </tr>\n",
              "    <tr>\n",
              "      <th>10</th>\n",
              "      <td>d1-limebtc-prepaid-precheck-load</td>\n",
              "      <td>1</td>\n",
              "      <td>failed</td>\n",
              "      <td>Topup-recharge-load-20063</td>\n",
              "      <td>check_log_rerun_if_no_other_load_running</td>\n",
              "      <td>0</td>\n",
              "      <td>1</td>\n",
              "      <td>0</td>\n",
              "      <td>0</td>\n",
              "      <td>2</td>\n",
              "    </tr>\n",
              "    <tr>\n",
              "      <th>11</th>\n",
              "      <td>d1-limebtc-prepaid-precheck-load</td>\n",
              "      <td>1</td>\n",
              "      <td>failed</td>\n",
              "      <td>a-6-independent-pid-data-load</td>\n",
              "      <td>check_log_rerun_if_no_other_load_running</td>\n",
              "      <td>0</td>\n",
              "      <td>1</td>\n",
              "      <td>0</td>\n",
              "      <td>1</td>\n",
              "      <td>2</td>\n",
              "    </tr>\n",
              "    <tr>\n",
              "      <th>12</th>\n",
              "      <td>d1-limebtc-prepaid-precheck-load</td>\n",
              "      <td>1</td>\n",
              "      <td>failed</td>\n",
              "      <td>a-7-ODS-MMS-load</td>\n",
              "      <td>check_log_rerun_if_no_other_load_running</td>\n",
              "      <td>0</td>\n",
              "      <td>1</td>\n",
              "      <td>0</td>\n",
              "      <td>2</td>\n",
              "      <td>2</td>\n",
              "    </tr>\n",
              "    <tr>\n",
              "      <th>13</th>\n",
              "      <td>d1-limebtc-prepaid-precheck-load</td>\n",
              "      <td>1</td>\n",
              "      <td>failed</td>\n",
              "      <td>b1-0100-vlr-stats-load</td>\n",
              "      <td>check_log_rerun_if_no_other_load_running</td>\n",
              "      <td>0</td>\n",
              "      <td>1</td>\n",
              "      <td>0</td>\n",
              "      <td>3</td>\n",
              "      <td>2</td>\n",
              "    </tr>\n",
              "    <tr>\n",
              "      <th>14</th>\n",
              "      <td>d1-limebtc-prepaid-precheck-load</td>\n",
              "      <td>1</td>\n",
              "      <td>failed</td>\n",
              "      <td>c1-0100-liberate-landing-load job</td>\n",
              "      <td>check_log_rerun_if_no_other_load_running</td>\n",
              "      <td>0</td>\n",
              "      <td>1</td>\n",
              "      <td>0</td>\n",
              "      <td>4</td>\n",
              "      <td>2</td>\n",
              "    </tr>\n",
              "    <tr>\n",
              "      <th>15</th>\n",
              "      <td>d1-limebtc-prepaid-precheck-load</td>\n",
              "      <td>1</td>\n",
              "      <td>failed</td>\n",
              "      <td>others</td>\n",
              "      <td>check_log_rerun</td>\n",
              "      <td>0</td>\n",
              "      <td>1</td>\n",
              "      <td>0</td>\n",
              "      <td>7</td>\n",
              "      <td>1</td>\n",
              "    </tr>\n",
              "    <tr>\n",
              "      <th>16</th>\n",
              "      <td>d1-limebtc-prepaid-precheck-load</td>\n",
              "      <td>30</td>\n",
              "      <td>failed</td>\n",
              "      <td>others</td>\n",
              "      <td>check_log_rerun</td>\n",
              "      <td>0</td>\n",
              "      <td>2</td>\n",
              "      <td>0</td>\n",
              "      <td>7</td>\n",
              "      <td>1</td>\n",
              "    </tr>\n",
              "    <tr>\n",
              "      <th>17</th>\n",
              "      <td>d1-limebtc-prepaid-precheck-load</td>\n",
              "      <td>60</td>\n",
              "      <td>failed</td>\n",
              "      <td>others</td>\n",
              "      <td>check_log_rerun</td>\n",
              "      <td>0</td>\n",
              "      <td>3</td>\n",
              "      <td>0</td>\n",
              "      <td>7</td>\n",
              "      <td>1</td>\n",
              "    </tr>\n",
              "  </tbody>\n",
              "</table>\n",
              "</div>"
            ],
            "text/plain": [
              "                            job_name  ...  successor_n\n",
              "0   d1-limebtc-prepaid-precheck-load  ...            3\n",
              "1   d1-limebtc-prepaid-precheck-load  ...            3\n",
              "2   d1-limebtc-prepaid-precheck-load  ...            3\n",
              "3   d1-limebtc-prepaid-precheck-load  ...            3\n",
              "4   d1-limebtc-prepaid-precheck-load  ...            3\n",
              "5   d1-limebtc-prepaid-precheck-load  ...            3\n",
              "6   d1-limebtc-prepaid-precheck-load  ...            0\n",
              "7   d1-limebtc-prepaid-precheck-load  ...            3\n",
              "8   d1-limebtc-prepaid-precheck-load  ...            2\n",
              "9   d1-limebtc-prepaid-precheck-load  ...            2\n",
              "10  d1-limebtc-prepaid-precheck-load  ...            2\n",
              "11  d1-limebtc-prepaid-precheck-load  ...            2\n",
              "12  d1-limebtc-prepaid-precheck-load  ...            2\n",
              "13  d1-limebtc-prepaid-precheck-load  ...            2\n",
              "14  d1-limebtc-prepaid-precheck-load  ...            2\n",
              "15  d1-limebtc-prepaid-precheck-load  ...            1\n",
              "16  d1-limebtc-prepaid-precheck-load  ...            1\n",
              "17  d1-limebtc-prepaid-precheck-load  ...            1\n",
              "\n",
              "[18 rows x 10 columns]"
            ]
          },
          "metadata": {},
          "execution_count": 10
        }
      ]
    },
    {
      "cell_type": "code",
      "metadata": {
        "id": "BkN3mgiRdUw8"
      },
      "source": [
        "target_n = inputs['successor_n']"
      ],
      "execution_count": null,
      "outputs": []
    },
    {
      "cell_type": "code",
      "metadata": {
        "id": "mS1dcZ5_O5Sv"
      },
      "source": [
        "inputs_n = inputs.drop(['job_name',\t'runtime',\t'status',\t'dependent_job_running_job'\t,'successor','successor_n'], axis='columns')"
      ],
      "execution_count": null,
      "outputs": []
    },
    {
      "cell_type": "code",
      "metadata": {
        "colab": {
          "base_uri": "https://localhost:8080/",
          "height": 601
        },
        "id": "j4fCQ5i3xVfc",
        "outputId": "0cc3c0c8-f9d3-457a-fa52-7708c194f839"
      },
      "source": [
        "inputs_n"
      ],
      "execution_count": null,
      "outputs": [
        {
          "output_type": "execute_result",
          "data": {
            "text/html": [
              "<div>\n",
              "<style scoped>\n",
              "    .dataframe tbody tr th:only-of-type {\n",
              "        vertical-align: middle;\n",
              "    }\n",
              "\n",
              "    .dataframe tbody tr th {\n",
              "        vertical-align: top;\n",
              "    }\n",
              "\n",
              "    .dataframe thead th {\n",
              "        text-align: right;\n",
              "    }\n",
              "</style>\n",
              "<table border=\"1\" class=\"dataframe\">\n",
              "  <thead>\n",
              "    <tr style=\"text-align: right;\">\n",
              "      <th></th>\n",
              "      <th>job_name_n</th>\n",
              "      <th>runtime_n</th>\n",
              "      <th>status_n</th>\n",
              "      <th>dependent_job_running_job_n</th>\n",
              "    </tr>\n",
              "  </thead>\n",
              "  <tbody>\n",
              "    <tr>\n",
              "      <th>0</th>\n",
              "      <td>0</td>\n",
              "      <td>0</td>\n",
              "      <td>1</td>\n",
              "      <td>5</td>\n",
              "    </tr>\n",
              "    <tr>\n",
              "      <th>1</th>\n",
              "      <td>0</td>\n",
              "      <td>0</td>\n",
              "      <td>1</td>\n",
              "      <td>6</td>\n",
              "    </tr>\n",
              "    <tr>\n",
              "      <th>2</th>\n",
              "      <td>0</td>\n",
              "      <td>0</td>\n",
              "      <td>1</td>\n",
              "      <td>0</td>\n",
              "    </tr>\n",
              "    <tr>\n",
              "      <th>3</th>\n",
              "      <td>0</td>\n",
              "      <td>0</td>\n",
              "      <td>1</td>\n",
              "      <td>1</td>\n",
              "    </tr>\n",
              "    <tr>\n",
              "      <th>4</th>\n",
              "      <td>0</td>\n",
              "      <td>0</td>\n",
              "      <td>1</td>\n",
              "      <td>2</td>\n",
              "    </tr>\n",
              "    <tr>\n",
              "      <th>5</th>\n",
              "      <td>0</td>\n",
              "      <td>0</td>\n",
              "      <td>1</td>\n",
              "      <td>3</td>\n",
              "    </tr>\n",
              "    <tr>\n",
              "      <th>6</th>\n",
              "      <td>0</td>\n",
              "      <td>0</td>\n",
              "      <td>1</td>\n",
              "      <td>7</td>\n",
              "    </tr>\n",
              "    <tr>\n",
              "      <th>7</th>\n",
              "      <td>0</td>\n",
              "      <td>0</td>\n",
              "      <td>1</td>\n",
              "      <td>4</td>\n",
              "    </tr>\n",
              "    <tr>\n",
              "      <th>8</th>\n",
              "      <td>0</td>\n",
              "      <td>1</td>\n",
              "      <td>0</td>\n",
              "      <td>5</td>\n",
              "    </tr>\n",
              "    <tr>\n",
              "      <th>9</th>\n",
              "      <td>0</td>\n",
              "      <td>1</td>\n",
              "      <td>0</td>\n",
              "      <td>6</td>\n",
              "    </tr>\n",
              "    <tr>\n",
              "      <th>10</th>\n",
              "      <td>0</td>\n",
              "      <td>1</td>\n",
              "      <td>0</td>\n",
              "      <td>0</td>\n",
              "    </tr>\n",
              "    <tr>\n",
              "      <th>11</th>\n",
              "      <td>0</td>\n",
              "      <td>1</td>\n",
              "      <td>0</td>\n",
              "      <td>1</td>\n",
              "    </tr>\n",
              "    <tr>\n",
              "      <th>12</th>\n",
              "      <td>0</td>\n",
              "      <td>1</td>\n",
              "      <td>0</td>\n",
              "      <td>2</td>\n",
              "    </tr>\n",
              "    <tr>\n",
              "      <th>13</th>\n",
              "      <td>0</td>\n",
              "      <td>1</td>\n",
              "      <td>0</td>\n",
              "      <td>3</td>\n",
              "    </tr>\n",
              "    <tr>\n",
              "      <th>14</th>\n",
              "      <td>0</td>\n",
              "      <td>1</td>\n",
              "      <td>0</td>\n",
              "      <td>4</td>\n",
              "    </tr>\n",
              "    <tr>\n",
              "      <th>15</th>\n",
              "      <td>0</td>\n",
              "      <td>1</td>\n",
              "      <td>0</td>\n",
              "      <td>7</td>\n",
              "    </tr>\n",
              "    <tr>\n",
              "      <th>16</th>\n",
              "      <td>0</td>\n",
              "      <td>2</td>\n",
              "      <td>0</td>\n",
              "      <td>7</td>\n",
              "    </tr>\n",
              "    <tr>\n",
              "      <th>17</th>\n",
              "      <td>0</td>\n",
              "      <td>3</td>\n",
              "      <td>0</td>\n",
              "      <td>7</td>\n",
              "    </tr>\n",
              "  </tbody>\n",
              "</table>\n",
              "</div>"
            ],
            "text/plain": [
              "    job_name_n  runtime_n  status_n  dependent_job_running_job_n\n",
              "0            0          0         1                            5\n",
              "1            0          0         1                            6\n",
              "2            0          0         1                            0\n",
              "3            0          0         1                            1\n",
              "4            0          0         1                            2\n",
              "5            0          0         1                            3\n",
              "6            0          0         1                            7\n",
              "7            0          0         1                            4\n",
              "8            0          1         0                            5\n",
              "9            0          1         0                            6\n",
              "10           0          1         0                            0\n",
              "11           0          1         0                            1\n",
              "12           0          1         0                            2\n",
              "13           0          1         0                            3\n",
              "14           0          1         0                            4\n",
              "15           0          1         0                            7\n",
              "16           0          2         0                            7\n",
              "17           0          3         0                            7"
            ]
          },
          "metadata": {},
          "execution_count": 13
        }
      ]
    },
    {
      "cell_type": "code",
      "metadata": {
        "id": "OlqAZ55fdc_z",
        "colab": {
          "base_uri": "https://localhost:8080/"
        },
        "outputId": "cef19e63-4afb-4d3c-b4c1-86f3a2d14441"
      },
      "source": [
        "target_n"
      ],
      "execution_count": null,
      "outputs": [
        {
          "output_type": "execute_result",
          "data": {
            "text/plain": [
              "0     3\n",
              "1     3\n",
              "2     3\n",
              "3     3\n",
              "4     3\n",
              "5     3\n",
              "6     0\n",
              "7     3\n",
              "8     2\n",
              "9     2\n",
              "10    2\n",
              "11    2\n",
              "12    2\n",
              "13    2\n",
              "14    2\n",
              "15    1\n",
              "16    1\n",
              "17    1\n",
              "Name: successor_n, dtype: int64"
            ]
          },
          "metadata": {},
          "execution_count": 14
        }
      ]
    },
    {
      "cell_type": "code",
      "metadata": {
        "id": "FVILhAxad67v"
      },
      "source": [
        "from sklearn import tree\n",
        "model = tree.DecisionTreeClassifier()"
      ],
      "execution_count": null,
      "outputs": []
    },
    {
      "cell_type": "code",
      "metadata": {
        "id": "eTNJUjxRdj2-",
        "colab": {
          "base_uri": "https://localhost:8080/"
        },
        "outputId": "7985bbf9-329e-45cb-ec58-2c586ec73fb4"
      },
      "source": [
        "model.fit(inputs_n, target_n)\n"
      ],
      "execution_count": null,
      "outputs": [
        {
          "output_type": "execute_result",
          "data": {
            "text/plain": [
              "DecisionTreeClassifier(ccp_alpha=0.0, class_weight=None, criterion='gini',\n",
              "                       max_depth=None, max_features=None, max_leaf_nodes=None,\n",
              "                       min_impurity_decrease=0.0, min_impurity_split=None,\n",
              "                       min_samples_leaf=1, min_samples_split=2,\n",
              "                       min_weight_fraction_leaf=0.0, presort='deprecated',\n",
              "                       random_state=None, splitter='best')"
            ]
          },
          "metadata": {},
          "execution_count": 16
        }
      ]
    },
    {
      "cell_type": "code",
      "metadata": {
        "colab": {
          "base_uri": "https://localhost:8080/"
        },
        "id": "fPA8yoGmeGCs",
        "outputId": "ea9ab652-3498-4558-f3e6-d2198030cbc3"
      },
      "source": [
        "model.score(inputs_n,target_n)\n"
      ],
      "execution_count": null,
      "outputs": [
        {
          "output_type": "execute_result",
          "data": {
            "text/plain": [
              "1.0"
            ]
          },
          "metadata": {},
          "execution_count": 17
        }
      ]
    },
    {
      "cell_type": "code",
      "metadata": {
        "colab": {
          "base_uri": "https://localhost:8080/"
        },
        "id": "pFQi_hppeIrM",
        "outputId": "9a97868b-1a08-44b2-adb2-ddf2ec9af072"
      },
      "source": [
        "model.predict([[0,3,0,7]])\n"
      ],
      "execution_count": null,
      "outputs": [
        {
          "output_type": "execute_result",
          "data": {
            "text/plain": [
              "array([1])"
            ]
          },
          "metadata": {},
          "execution_count": 18
        }
      ]
    },
    {
      "cell_type": "code",
      "metadata": {
        "id": "JFFsoM6NgL9o"
      },
      "source": [
        "from matplotlib import pyplot as plt\n",
        "from sklearn import datasets\n",
        "from sklearn.tree import DecisionTreeClassifier \n",
        "from sklearn import tree\n",
        "# Prepare the data data\n",
        "\n",
        "X = inputs_n\n",
        "y = target_n\n",
        "# Fit the classifier with default hyper-parameters\n",
        "clf = DecisionTreeClassifier(random_state=1234)\n",
        "model = clf.fit(X, y)"
      ],
      "execution_count": null,
      "outputs": []
    },
    {
      "cell_type": "code",
      "metadata": {
        "colab": {
          "base_uri": "https://localhost:8080/",
          "height": 372
        },
        "id": "fBpqfmUshoBo",
        "outputId": "9f9b4a88-9be5-4fe3-f297-1ff16ee50a3a"
      },
      "source": [
        "tree.plot_tree(clf)"
      ],
      "execution_count": null,
      "outputs": [
        {
          "output_type": "execute_result",
          "data": {
            "text/plain": [
              "[Text(167.4, 181.2, 'X[2] <= 0.5\\ngini = 0.667\\nsamples = 18\\nvalue = [1, 3, 7, 7]'),\n",
              " Text(83.7, 108.72, 'X[3] <= 6.5\\ngini = 0.42\\nsamples = 10\\nvalue = [0, 3, 7, 0]'),\n",
              " Text(41.85, 36.23999999999998, 'gini = 0.0\\nsamples = 7\\nvalue = [0, 0, 7, 0]'),\n",
              " Text(125.55000000000001, 36.23999999999998, 'gini = 0.0\\nsamples = 3\\nvalue = [0, 3, 0, 0]'),\n",
              " Text(251.10000000000002, 108.72, 'X[3] <= 6.5\\ngini = 0.219\\nsamples = 8\\nvalue = [1, 0, 0, 7]'),\n",
              " Text(209.25, 36.23999999999998, 'gini = 0.0\\nsamples = 7\\nvalue = [0, 0, 0, 7]'),\n",
              " Text(292.95, 36.23999999999998, 'gini = 0.0\\nsamples = 1\\nvalue = [1, 0, 0, 0]')]"
            ]
          },
          "metadata": {},
          "execution_count": 168
        },
        {
          "output_type": "display_data",
          "data": {
            "image/png": "[encoded data removed]",
            "text/plain": [
              "<Figure size 432x288 with 1 Axes>"
            ]
          },
          "metadata": {
            "needs_background": "light"
          }
        }
      ]
    },
    {
      "cell_type": "code",
      "metadata": {
        "id": "qLOOzw_-glkd"
      },
      "source": [
        "text_representation = tree.export_text(clf)\n",
        "print(text_representation)"
      ],
      "execution_count": null,
      "outputs": []
    },
    {
      "cell_type": "markdown",
      "metadata": {
        "id": "QCz2hxuVQlGc"
      },
      "source": [
        " **---Testing follows----**"
      ]
    },
    {
      "cell_type": "code",
      "metadata": {
        "id": "4xJ4mp-z04tl"
      },
      "source": [
        "le_dependent_job_running_job.classes_"
      ],
      "execution_count": null,
      "outputs": []
    },
    {
      "cell_type": "code",
      "metadata": {
        "id": "hh2EB_x02IgA"
      },
      "source": [
        "en_dj_rj = le_dependent_job_running_job.transform([user_input_dj_rj])"
      ],
      "execution_count": null,
      "outputs": []
    },
    {
      "cell_type": "code",
      "metadata": {
        "colab": {
          "base_uri": "https://localhost:8080/"
        },
        "id": "sMmGsHKu15jv",
        "outputId": "e9753a6b-9619-474b-fdab-7e387416c9c9"
      },
      "source": [
        "le_dependent_job_running_job.inverse_transform([1])"
      ],
      "execution_count": null,
      "outputs": [
        {
          "output_type": "execute_result",
          "data": {
            "text/plain": [
              "array(['a-6-independent-pid-data-load'], dtype=object)"
            ]
          },
          "metadata": {},
          "execution_count": 111
        }
      ]
    },
    {
      "cell_type": "code",
      "metadata": {
        "id": "YrV8Xt4UNZ_P"
      },
      "source": [
        "int(dp)"
      ],
      "execution_count": null,
      "outputs": []
    },
    {
      "cell_type": "code",
      "metadata": {
        "id": "PnbqpRRiN90b"
      },
      "source": [
        "le_job_name\n",
        "le_runtime\n",
        "le_status\n",
        "le_dependent_job_running_job\n",
        "le_successor"
      ],
      "execution_count": null,
      "outputs": []
    },
    {
      "cell_type": "code",
      "metadata": {
        "id": "K5YpOfxHOTOp"
      },
      "source": [
        "user_input_dj_rj = input(\"Enter the job name:\")"
      ],
      "execution_count": null,
      "outputs": []
    },
    {
      "cell_type": "code",
      "metadata": {
        "id": "1jsu_D1bOXZ4"
      },
      "source": [
        "user_input_dj_rj"
      ],
      "execution_count": null,
      "outputs": []
    },
    {
      "cell_type": "code",
      "metadata": {
        "id": "YqFIOvoRPyi4"
      },
      "source": [
        "pre = model.predict([[0,0,1,7]])"
      ],
      "execution_count": null,
      "outputs": []
    },
    {
      "cell_type": "code",
      "metadata": {
        "id": "nBo2rocsUy6t"
      },
      "source": [
        ""
      ],
      "execution_count": null,
      "outputs": []
    },
    {
      "cell_type": "code",
      "metadata": {
        "id": "TWjdbnjHP2f7"
      },
      "source": [
        "int(pre)\n",
        "result = le_successor.inverse_transform([int(pre)])\n",
        "print(result)"
      ],
      "execution_count": null,
      "outputs": []
    },
    {
      "cell_type": "code",
      "metadata": {
        "colab": {
          "base_uri": "https://localhost:8080/"
        },
        "id": "GuojNhIcSGB3",
        "cellView": "form",
        "outputId": "9b3753a1-53ee-485c-a2d5-702c516bdffd"
      },
      "source": [
        "job_name = \"d1-limebtc-prepaid-precheck-load\" #@param [\"d1-limebtc-prepaid-precheck-load\"]\n",
        "print(\"\\033[1m  Job name   \\033[0m                    : \", job_name)\n",
        "\n",
        "runtime = \"1\" #@param [\"0\", \"1\", \"30\", \"60\"]\n",
        "print(\"\\033[1m  Runtime   \\033[0m                     : \",  runtime)\n",
        "\n",
        "status = \"failed\" #@param [\"schedled\", \"failed\"]\n",
        "print(\"\\033[1m  Status  \\033[0m                       : \",status)\n",
        "\n",
        "dependent_job_running_job = \"a-6-independent-pid-data-load\" #@param [\"h1-columbus-data-load-from-s3\",\"h1-columbus-data-precheck-load\",\"Topup-recharge-load-20063\",\"a-6-independent-pid-data-load\",\"a-7-ODS-MMS-load\",\"b1-0100-vlr-stats-load\",\"c1-0100-liberate-landing-load job\"]\n",
        "print(\"\\033[1m  Dependent Job or Running Job  \\033[0m : \",dependent_job_running_job)\n",
        "\n",
        "print(\"\\033[1m  Recommended Workaround  \\033[0m       : \")"
      ],
      "execution_count": null,
      "outputs": [
        {
          "output_type": "stream",
          "name": "stdout",
          "text": [
            "\u001b[1m  Job name   \u001b[0m                    :  d1-limebtc-prepaid-precheck-load\n",
            "\u001b[1m  Runtime   \u001b[0m                     :  0\n",
            "\u001b[1m  Status  \u001b[0m                       :  schedled\n",
            "\u001b[1m  Dependent Job or Running Job  \u001b[0m :  h1-columbus-data-load-from-s3\n",
            "\u001b[1m  Recommended Workaround  \u001b[0m       : \n"
          ]
        }
      ]
    }
  ]
}